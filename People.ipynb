{
  "nbformat": 4,
  "nbformat_minor": 0,
  "metadata": {
    "colab": {
      "provenance": [],
      "gpuType": "T4",
      "mount_file_id": "10Fqj3Ds8WNhFgJZLKvxd48Mp90UJbVbJ",
      "authorship_tag": "ABX9TyNtxanfPbiSs5IFp83HBgIu",
      "include_colab_link": true
    },
    "kernelspec": {
      "name": "python3",
      "display_name": "Python 3"
    },
    "language_info": {
      "name": "python"
    },
    "accelerator": "GPU"
  },
  "cells": [
    {
      "cell_type": "markdown",
      "metadata": {
        "id": "view-in-github",
        "colab_type": "text"
      },
      "source": [
        "<a href=\"https://colab.research.google.com/github/my-quach/R-AI/blob/main/People.ipynb\" target=\"_parent\"><img src=\"https://colab.research.google.com/assets/colab-badge.svg\" alt=\"Open In Colab\"/></a>"
      ]
    },
    {
      "cell_type": "code",
      "execution_count": null,
      "metadata": {
        "id": "JLHBXHAEyyQa"
      },
      "outputs": [],
      "source": [
        "from keras.utils import load_img, img_to_array\n",
        "import numpy as np\n",
        "import matplotlib.pyplot as plt\n",
        "from keras.models import Sequential\n",
        "from tensorflow.keras.preprocessing.image import ImageDataGenerator\n",
        "from keras.layers import Dense,Dropout"
      ]
    },
    {
      "cell_type": "code",
      "source": [
        "from tensorflow.keras.models import load_model\n",
        "\n",
        "model = load_model('trainAI (1).h5')\n",
        "model.summary()  # xem cấu trúc mô hình"
      ],
      "metadata": {
        "colab": {
          "base_uri": "https://localhost:8080/",
          "height": 278
        },
        "id": "7TamL1_tDb6p",
        "outputId": "068948c9-456d-4943-d786-0cfd14def61c"
      },
      "execution_count": null,
      "outputs": [
        {
          "output_type": "stream",
          "name": "stderr",
          "text": [
            "WARNING:absl:Compiled the loaded model, but the compiled metrics have yet to be built. `model.compile_metrics` will be empty until you train or evaluate the model.\n"
          ]
        },
        {
          "output_type": "display_data",
          "data": {
            "text/plain": [
              "\u001b[1mModel: \"sequential\"\u001b[0m\n"
            ],
            "text/html": [
              "<pre style=\"white-space:pre;overflow-x:auto;line-height:normal;font-family:Menlo,'DejaVu Sans Mono',consolas,'Courier New',monospace\"><span style=\"font-weight: bold\">Model: \"sequential\"</span>\n",
              "</pre>\n"
            ]
          },
          "metadata": {}
        },
        {
          "output_type": "display_data",
          "data": {
            "text/plain": [
              "┏━━━━━━━━━━━━━━━━━━━━━━━━━━━━━━━━━┳━━━━━━━━━━━━━━━━━━━━━━━━┳━━━━━━━━━━━━━━━┓\n",
              "┃\u001b[1m \u001b[0m\u001b[1mLayer (type)                   \u001b[0m\u001b[1m \u001b[0m┃\u001b[1m \u001b[0m\u001b[1mOutput Shape          \u001b[0m\u001b[1m \u001b[0m┃\u001b[1m \u001b[0m\u001b[1m      Param #\u001b[0m\u001b[1m \u001b[0m┃\n",
              "┡━━━━━━━━━━━━━━━━━━━━━━━━━━━━━━━━━╇━━━━━━━━━━━━━━━━━━━━━━━━╇━━━━━━━━━━━━━━━┩\n",
              "│ dense (\u001b[38;5;33mDense\u001b[0m)                   │ (\u001b[38;5;45mNone\u001b[0m, \u001b[38;5;34m256\u001b[0m)            │       \u001b[38;5;34m786,688\u001b[0m │\n",
              "├─────────────────────────────────┼────────────────────────┼───────────────┤\n",
              "│ dense_1 (\u001b[38;5;33mDense\u001b[0m)                 │ (\u001b[38;5;45mNone\u001b[0m, \u001b[38;5;34m128\u001b[0m)            │        \u001b[38;5;34m32,896\u001b[0m │\n",
              "├─────────────────────────────────┼────────────────────────┼───────────────┤\n",
              "│ dense_2 (\u001b[38;5;33mDense\u001b[0m)                 │ (\u001b[38;5;45mNone\u001b[0m, \u001b[38;5;34m5\u001b[0m)              │           \u001b[38;5;34m645\u001b[0m │\n",
              "└─────────────────────────────────┴────────────────────────┴───────────────┘\n"
            ],
            "text/html": [
              "<pre style=\"white-space:pre;overflow-x:auto;line-height:normal;font-family:Menlo,'DejaVu Sans Mono',consolas,'Courier New',monospace\">┏━━━━━━━━━━━━━━━━━━━━━━━━━━━━━━━━━┳━━━━━━━━━━━━━━━━━━━━━━━━┳━━━━━━━━━━━━━━━┓\n",
              "┃<span style=\"font-weight: bold\"> Layer (type)                    </span>┃<span style=\"font-weight: bold\"> Output Shape           </span>┃<span style=\"font-weight: bold\">       Param # </span>┃\n",
              "┡━━━━━━━━━━━━━━━━━━━━━━━━━━━━━━━━━╇━━━━━━━━━━━━━━━━━━━━━━━━╇━━━━━━━━━━━━━━━┩\n",
              "│ dense (<span style=\"color: #0087ff; text-decoration-color: #0087ff\">Dense</span>)                   │ (<span style=\"color: #00d7ff; text-decoration-color: #00d7ff\">None</span>, <span style=\"color: #00af00; text-decoration-color: #00af00\">256</span>)            │       <span style=\"color: #00af00; text-decoration-color: #00af00\">786,688</span> │\n",
              "├─────────────────────────────────┼────────────────────────┼───────────────┤\n",
              "│ dense_1 (<span style=\"color: #0087ff; text-decoration-color: #0087ff\">Dense</span>)                 │ (<span style=\"color: #00d7ff; text-decoration-color: #00d7ff\">None</span>, <span style=\"color: #00af00; text-decoration-color: #00af00\">128</span>)            │        <span style=\"color: #00af00; text-decoration-color: #00af00\">32,896</span> │\n",
              "├─────────────────────────────────┼────────────────────────┼───────────────┤\n",
              "│ dense_2 (<span style=\"color: #0087ff; text-decoration-color: #0087ff\">Dense</span>)                 │ (<span style=\"color: #00d7ff; text-decoration-color: #00d7ff\">None</span>, <span style=\"color: #00af00; text-decoration-color: #00af00\">5</span>)              │           <span style=\"color: #00af00; text-decoration-color: #00af00\">645</span> │\n",
              "└─────────────────────────────────┴────────────────────────┴───────────────┘\n",
              "</pre>\n"
            ]
          },
          "metadata": {}
        },
        {
          "output_type": "display_data",
          "data": {
            "text/plain": [
              "\u001b[1m Total params: \u001b[0m\u001b[38;5;34m820,231\u001b[0m (3.13 MB)\n"
            ],
            "text/html": [
              "<pre style=\"white-space:pre;overflow-x:auto;line-height:normal;font-family:Menlo,'DejaVu Sans Mono',consolas,'Courier New',monospace\"><span style=\"font-weight: bold\"> Total params: </span><span style=\"color: #00af00; text-decoration-color: #00af00\">820,231</span> (3.13 MB)\n",
              "</pre>\n"
            ]
          },
          "metadata": {}
        },
        {
          "output_type": "display_data",
          "data": {
            "text/plain": [
              "\u001b[1m Trainable params: \u001b[0m\u001b[38;5;34m820,229\u001b[0m (3.13 MB)\n"
            ],
            "text/html": [
              "<pre style=\"white-space:pre;overflow-x:auto;line-height:normal;font-family:Menlo,'DejaVu Sans Mono',consolas,'Courier New',monospace\"><span style=\"font-weight: bold\"> Trainable params: </span><span style=\"color: #00af00; text-decoration-color: #00af00\">820,229</span> (3.13 MB)\n",
              "</pre>\n"
            ]
          },
          "metadata": {}
        },
        {
          "output_type": "display_data",
          "data": {
            "text/plain": [
              "\u001b[1m Non-trainable params: \u001b[0m\u001b[38;5;34m0\u001b[0m (0.00 B)\n"
            ],
            "text/html": [
              "<pre style=\"white-space:pre;overflow-x:auto;line-height:normal;font-family:Menlo,'DejaVu Sans Mono',consolas,'Courier New',monospace\"><span style=\"font-weight: bold\"> Non-trainable params: </span><span style=\"color: #00af00; text-decoration-color: #00af00\">0</span> (0.00 B)\n",
              "</pre>\n"
            ]
          },
          "metadata": {}
        },
        {
          "output_type": "display_data",
          "data": {
            "text/plain": [
              "\u001b[1m Optimizer params: \u001b[0m\u001b[38;5;34m2\u001b[0m (12.00 B)\n"
            ],
            "text/html": [
              "<pre style=\"white-space:pre;overflow-x:auto;line-height:normal;font-family:Menlo,'DejaVu Sans Mono',consolas,'Courier New',monospace\"><span style=\"font-weight: bold\"> Optimizer params: </span><span style=\"color: #00af00; text-decoration-color: #00af00\">2</span> (12.00 B)\n",
              "</pre>\n"
            ]
          },
          "metadata": {}
        }
      ]
    },
    {
      "cell_type": "code",
      "source": [
        "# Tạo ImageDataGenerator, chuẩn hóa pixel về [0, 1]\n",
        "datagen = ImageDataGenerator(rescale=1.0/255)\n",
        "\n",
        "# Load ảnh từ thư mục theo batch\n",
        "generator = datagen.flow_from_directory(\n",
        "    '/content/drive/MyDrive/people',       # đường dẫn đến thư mục chính\n",
        "    target_size=(32, 32),    # resize ảnh về 32x32\n",
        "    color_mode='rgb',        # 'grayscale' nếu ảnh trắng đen\n",
        "    class_mode='categorical',# one-hot encoding cho nhãn\n",
        "    batch_size=32,\n",
        "    shuffle=True\n",
        ")\n",
        "\n",
        "# Load dữ liệu kiểm tra từ thư mục\n",
        "test_generator = datagen.flow_from_directory(\n",
        "    '/content/drive/MyDrive/people',\n",
        "    target_size=(32, 32),\n",
        "    color_mode='rgb',\n",
        "    class_mode='categorical',\n",
        "    batch_size=10000,            # giả sử test dưới 10k ảnh\n",
        "    shuffle=False\n",
        ")\n",
        "class_labels = ['HURRYKNG', 'Huệ Mỹ', 'J97', 'Wean Lê', 'mintum xinkdep']\n",
        "# Lấy 1 batch đầu tiên\n",
        "X_batch, y_batch = next(generator)\n",
        "\n",
        "# Flatten ảnh để dùng cho ANN\n",
        "X_batch_flat = X_batch.reshape(X_batch.shape[0], -1)  # shape: (batch_size, 32*32*3)\n",
        "\n",
        "print(\"Input shape for ANN:\", X_batch_flat.shape)  # ví dụ: (32, 3072)\n",
        "print(\"Label shape (one-hot):\", y_batch.shape)      # ví dụ: (32, 2) nếu có 2 class"
      ],
      "metadata": {
        "colab": {
          "base_uri": "https://localhost:8080/"
        },
        "id": "4URSugU0Dcjq",
        "outputId": "9b29bf4e-a102-49d4-ea1a-40ed9ad2eeaa"
      },
      "execution_count": null,
      "outputs": [
        {
          "output_type": "stream",
          "name": "stdout",
          "text": [
            "Found 35 images belonging to 5 classes.\n",
            "Found 35 images belonging to 5 classes.\n",
            "Input shape for ANN: (32, 3072)\n",
            "Label shape (one-hot): (32, 5)\n"
          ]
        }
      ]
    },
    {
      "cell_type": "code",
      "source": [
        "#Load tập test\n",
        "test_generator = datagen.flow_from_directory(\n",
        "    '/content/drive/MyDrive/people',\n",
        "    target_size=(32, 32),\n",
        "    color_mode='rgb',\n",
        "    class_mode='categorical',\n",
        "    batch_size=10000,  # Load tất cả test\n",
        "    shuffle=False\n",
        ")\n",
        "\n",
        "# Lấy toàn bộ dữ liệu từ generator\n",
        "x_train, y_train = next(generator)\n",
        "x_test, y_test = next(test_generator)\n",
        "\n",
        "# Flatten ảnh cho ANN\n",
        "x_train = x_train.reshape(x_train.shape[0], -1)  # (50000, 32*32*3)\n",
        "x_test = x_test.reshape(x_test.shape[0], -1)\n",
        "\n",
        "# Không cần dùng to_categorical vì generator đã trả về one-hot\n",
        "print(x_train.shape, y_train.shape)\n",
        "print(x_test.shape, y_test.shape)"
      ],
      "metadata": {
        "colab": {
          "base_uri": "https://localhost:8080/"
        },
        "id": "9xId_v1rDgZh",
        "outputId": "a7fcf4e1-782e-45a6-cf21-05719f8bddb6"
      },
      "execution_count": null,
      "outputs": [
        {
          "output_type": "stream",
          "name": "stdout",
          "text": [
            "Found 35 images belonging to 5 classes.\n",
            "(3, 3072) (3, 5)\n",
            "(35, 3072) (35, 5)\n"
          ]
        }
      ]
    },
    {
      "cell_type": "code",
      "source": [
        "generator.class_indices"
      ],
      "metadata": {
        "colab": {
          "base_uri": "https://localhost:8080/"
        },
        "id": "dJNfDkIioSvf",
        "outputId": "441c032d-d70b-48b3-d5af-b077173de8bc"
      },
      "execution_count": null,
      "outputs": [
        {
          "output_type": "execute_result",
          "data": {
            "text/plain": [
              "{'HURRYKNG': 0, 'Huệ Mỹ': 1, 'J97': 2, 'Wean Lê': 3, 'mintum xinkdep': 4}"
            ]
          },
          "metadata": {},
          "execution_count": 6
        }
      ]
    },
    {
      "cell_type": "code",
      "source": [
        "img=load_img('/content/drive/MyDrive/people/HURRYKNG/hrk3.jpg', target_size=(32,32))\n",
        "plt.imshow(img)\n",
        "img=img_to_array(img)\n",
        "img_flatten=img.reshape(1,32*32*3)\n",
        "\n",
        "\n",
        "# Tiền xử lý ảnh\n",
        "img = img_to_array(img)\n",
        "img_flatten = img.reshape(1, 32*32*3)\n",
        "img_flatten = img_flatten.astype('float32') / 255  # normalize\n",
        "\n",
        "# Dự đoán\n",
        "y_pred_prob = model.predict(img_flatten)\n",
        "predicted_class_index = int(np.argmax(y_pred_prob))\n",
        "\n",
        "# Lấy nhãn class\n",
        "class_labels = list(generator.class_indices.keys())\n",
        "\n",
        "# In kết quả\n",
        "print(\"Dự đoán:\", class_labels[predicted_class_index])"
      ],
      "metadata": {
        "colab": {
          "base_uri": "https://localhost:8080/",
          "height": 465
        },
        "id": "3l9SqxizD-TE",
        "outputId": "443b544a-1bd4-4c33-a4d4-acabac0a2bcb"
      },
      "execution_count": null,
      "outputs": [
        {
          "output_type": "stream",
          "name": "stdout",
          "text": [
            "\u001b[1m1/1\u001b[0m \u001b[32m━━━━━━━━━━━━━━━━━━━━\u001b[0m\u001b[37m\u001b[0m \u001b[1m0s\u001b[0m 40ms/step\n",
            "Dự đoán: HURRYKNG\n"
          ]
        },
        {
          "output_type": "display_data",
          "data": {
            "text/plain": [
              "<Figure size 640x480 with 1 Axes>"
            ],
            "image/png": "[encoded data removed]"
          },
          "metadata": {}
        }
      ]
    },
    {
      "cell_type": "code",
      "source": [
        "img=load_img('/content/drive/MyDrive/people/J97/J97 1.jpg', target_size=(32,32))\n",
        "plt.imshow(img)\n",
        "img=img_to_array(img)\n",
        "img_flatten=img.reshape(1,32*32*3)\n",
        "\n",
        "\n",
        "# Tiền xử lý ảnh\n",
        "img = img_to_array(img)\n",
        "img_flatten = img.reshape(1, 32*32*3)\n",
        "img_flatten = img_flatten.astype('float32') / 255  # normalize\n",
        "\n",
        "# Dự đoán\n",
        "y_pred_prob = model.predict(img_flatten)\n",
        "predicted_class_index = int(np.argmax(y_pred_prob))\n",
        "\n",
        "# Lấy nhãn class\n",
        "class_labels = list(generator.class_indices.keys())\n",
        "\n",
        "# In kết quả\n",
        "print(\"Dự đoán:\", class_labels[predicted_class_index])"
      ],
      "metadata": {
        "colab": {
          "base_uri": "https://localhost:8080/",
          "height": 465
        },
        "id": "JxhVTf-7o2Pk",
        "outputId": "90103d90-e49f-4e47-a973-24b8df76dfd5"
      },
      "execution_count": null,
      "outputs": [
        {
          "output_type": "stream",
          "name": "stdout",
          "text": [
            "\u001b[1m1/1\u001b[0m \u001b[32m━━━━━━━━━━━━━━━━━━━━\u001b[0m\u001b[37m\u001b[0m \u001b[1m0s\u001b[0m 39ms/step\n",
            "Dự đoán: J97\n"
          ]
        },
        {
          "output_type": "display_data",
          "data": {
            "text/plain": [
              "<Figure size 640x480 with 1 Axes>"
            ],
            "image/png": "[encoded data removed]"
          },
          "metadata": {}
        }
      ]
    },
    {
      "cell_type": "code",
      "source": [
        "img=load_img('/content/drive/MyDrive/people/Wean Lê/wean3.jpg', target_size=(32,32))\n",
        "plt.imshow(img)\n",
        "img=img_to_array(img)\n",
        "img_flatten=img.reshape(1,32*32*3)\n",
        "\n",
        "\n",
        "# Tiền xử lý ảnh\n",
        "img = img_to_array(img)\n",
        "img_flatten = img.reshape(1, 32*32*3)\n",
        "img_flatten = img_flatten.astype('float32') / 255  # normalize\n",
        "\n",
        "# Dự đoán\n",
        "y_pred_prob = model.predict(img_flatten)\n",
        "predicted_class_index = int(np.argmax(y_pred_prob))\n",
        "\n",
        "# Lấy nhãn class\n",
        "class_labels = list(generator.class_indices.keys())\n",
        "\n",
        "# In kết quả\n",
        "print(\"Dự đoán:\", class_labels[predicted_class_index])"
      ],
      "metadata": {
        "colab": {
          "base_uri": "https://localhost:8080/",
          "height": 465
        },
        "id": "9yhaQcKMo_aj",
        "outputId": "7bda7dbe-61b5-47ad-a470-f3ff3d108a1d"
      },
      "execution_count": null,
      "outputs": [
        {
          "output_type": "stream",
          "name": "stdout",
          "text": [
            "\u001b[1m1/1\u001b[0m \u001b[32m━━━━━━━━━━━━━━━━━━━━\u001b[0m\u001b[37m\u001b[0m \u001b[1m0s\u001b[0m 46ms/step\n",
            "Dự đoán: Wean Lê\n"
          ]
        },
        {
          "output_type": "display_data",
          "data": {
            "text/plain": [
              "<Figure size 640x480 with 1 Axes>"
            ],
            "image/png": "[encoded data removed]"
          },
          "metadata": {}
        }
      ]
    },
    {
      "cell_type": "code",
      "source": [
        "img=load_img('/content/drive/MyDrive/people/Huệ Mỹ/hmu.jpg', target_size=(32,32))\n",
        "plt.imshow(img)\n",
        "img=img_to_array(img)\n",
        "img_flatten=img.reshape(1,32*32*3)\n",
        "\n",
        "\n",
        "# Tiền xử lý ảnh\n",
        "img = img_to_array(img)\n",
        "img_flatten = img.reshape(1, 32*32*3)\n",
        "img_flatten = img_flatten.astype('float32') / 255  # normalize\n",
        "\n",
        "# Dự đoán\n",
        "y_pred_prob = model.predict(img_flatten)\n",
        "predicted_class_index = int(np.argmax(y_pred_prob))\n",
        "\n",
        "# Lấy nhãn class\n",
        "class_labels = list(generator.class_indices.keys())\n",
        "\n",
        "# In kết quả\n",
        "print(\"Dự đoán:\", class_labels[predicted_class_index])"
      ],
      "metadata": {
        "colab": {
          "base_uri": "https://localhost:8080/",
          "height": 465
        },
        "id": "OpdRsZvYpIw5",
        "outputId": "0608e0d3-b46a-459d-fa06-97430c6d6a15"
      },
      "execution_count": null,
      "outputs": [
        {
          "output_type": "stream",
          "name": "stdout",
          "text": [
            "\u001b[1m1/1\u001b[0m \u001b[32m━━━━━━━━━━━━━━━━━━━━\u001b[0m\u001b[37m\u001b[0m \u001b[1m0s\u001b[0m 39ms/step\n",
            "Dự đoán: Wean Lê\n"
          ]
        },
        {
          "output_type": "display_data",
          "data": {
            "text/plain": [
              "<Figure size 640x480 with 1 Axes>"
            ],
            "image/png": "[encoded data removed]"
          },
          "metadata": {}
        }
      ]
    },
    {
      "cell_type": "code",
      "source": [
        "img=load_img('/content/drive/MyDrive/people/mintum xinkdep/mintum sĩ.jpg', target_size=(32,32))\n",
        "plt.imshow(img)\n",
        "img=img_to_array(img)\n",
        "img_flatten=img.reshape(1,32*32*3)\n",
        "\n",
        "\n",
        "# Tiền xử lý ảnh\n",
        "img = img_to_array(img)\n",
        "img_flatten = img.reshape(1, 32*32*3)\n",
        "img_flatten = img_flatten.astype('float32') / 255  # normalize\n",
        "\n",
        "# Dự đoán\n",
        "y_pred_prob = model.predict(img_flatten)\n",
        "predicted_class_index = int(np.argmax(y_pred_prob))\n",
        "\n",
        "# Lấy nhãn class\n",
        "class_labels = list(generator.class_indices.keys())\n",
        "\n",
        "# In kết quả\n",
        "print(\"Dự đoán:\", class_labels[predicted_class_index])"
      ],
      "metadata": {
        "id": "SOxU0kumv6lH",
        "outputId": "5917f9eb-2f53-45ba-a062-f23d126f3325",
        "colab": {
          "base_uri": "https://localhost:8080/",
          "height": 465
        }
      },
      "execution_count": 26,
      "outputs": [
        {
          "output_type": "stream",
          "name": "stdout",
          "text": [
            "\u001b[1m1/1\u001b[0m \u001b[32m━━━━━━━━━━━━━━━━━━━━\u001b[0m\u001b[37m\u001b[0m \u001b[1m0s\u001b[0m 75ms/step\n",
            "Dự đoán: Wean Lê\n"
          ]
        },
        {
          "output_type": "display_data",
          "data": {
            "text/plain": [
              "<Figure size 640x480 with 1 Axes>"
            ],
            "image/png": "[encoded data removed]"
          },
          "metadata": {}
        }
      ]
    }
  ]
}